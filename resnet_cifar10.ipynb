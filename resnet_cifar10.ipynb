{
 "cells": [
  {
   "cell_type": "markdown",
   "id": "325a5c0d",
   "metadata": {},
   "source": [
    "<a href=\"https://colab.research.google.com/github/CryptoSalamander/pytorch_paper_implementation/blob/master/resnet/resnet_cifar10.ipynb\" target=\"_parent\"><img src=\"https://colab.research.google.com/assets/colab-badge.svg\" alt=\"Open In Colab\"/></a>"
   ]
  },
  {
   "cell_type": "code",
   "execution_count": null,
   "id": "90b75e60",
   "metadata": {},
   "outputs": [],
   "source": [
    "import torchvision\n",
    "import torch\n",
    "import torch.nn as nn\n",
    "import torch.optim as optim\n",
    "import torchvision.transforms as transforms\n",
    "from resnet import ResNet18, ResNet34, ResNet50, ResNet101, ResNet152\n",
    "import os\n",
    "import torchvision.models as models"
   ]
  },
  {
   "cell_type": "code",
   "execution_count": null,
   "id": "b831f0d4",
   "metadata": {},
   "outputs": [],
   "source": [
    "# Simple Learning Rate Scheduler\n",
    "def lr_scheduler(optimizer, epoch):\n",
    "    lr = learning_rate\n",
    "    if epoch >= 50:\n",
    "        lr /= 10\n",
    "    if epoch >= 100:\n",
    "        lr /= 10\n",
    "    for param_group in optimizer.param_groups:\n",
    "        param_group['lr'] = lr\n",
    "\n",
    "# Xavier         \n",
    "def init_weights(m):\n",
    "    if isinstance(m, nn.Linear):\n",
    "        torch.nn.init.xavier_uniform(m.weight)\n",
    "        m.bias.data.fill_(0.01)"
   ]
  },
  {
   "cell_type": "code",
   "execution_count": null,
   "id": "52eadf28",
   "metadata": {},
   "outputs": [],
   "source": [
    "transform_train = transforms.Compose([\n",
    "    transforms.RandomCrop(32, padding=4),\n",
    "    transforms.RandomHorizontalFlip(),\n",
    "    transforms.ToTensor(),\n",
    "])\n",
    "\n",
    "transform_test = transforms.Compose([\n",
    "    transforms.ToTensor(),\n",
    "])\n",
    "\n",
    "train_dataset = torchvision.datasets.CIFAR10(root='./data', train=True, download=True, transform=transform_train)\n",
    "test_dataset = torchvision.datasets.CIFAR10(root='./data', train=False, download=True, transform=transform_test)\n",
    "\n",
    "train_loader = torch.utils.data.DataLoader(train_dataset, batch_size=256, shuffle=True, num_workers=8)\n",
    "test_loader = torch.utils.data.DataLoader(test_dataset, batch_size=256, shuffle=False, num_workers=8)"
   ]
  },
  {
   "cell_type": "code",
   "execution_count": null,
   "id": "26f6f682",
   "metadata": {},
   "outputs": [],
   "source": [
    "device = 'cuda'\n",
    "model = ResNet50()\n",
    "# ResNet18, ResNet34, ResNet50, ResNet101, ResNet152 중에 택일하여 사용"
   ]
  },
  {
   "cell_type": "code",
   "execution_count": null,
   "id": "1f5008c1",
   "metadata": {},
   "outputs": [],
   "source": [
    "model.apply(init_weights)\n",
    "model = model.to(device)"
   ]
  },
  {
   "cell_type": "code",
   "execution_count": null,
   "id": "f811ed9b",
   "metadata": {},
   "outputs": [],
   "source": [
    "learning_rate = 0.1\n",
    "num_epoch = 150\n",
    "model_name = 'model.pth'\n",
    "\n",
    "loss_fn = nn.CrossEntropyLoss()\n",
    "optimizer = optim.SGD(model.parameters(), lr=learning_rate, momentum=0.9, weight_decay=0.0001)\n",
    "\n",
    "train_loss = 0\n",
    "valid_loss = 0\n",
    "correct = 0\n",
    "total_cnt = 0\n",
    "best_acc = 0"
   ]
  },
  {
   "cell_type": "code",
   "execution_count": null,
   "id": "2cd814ce",
   "metadata": {},
   "outputs": [],
   "source": [
    "# Train\n",
    "for epoch in range(num_epoch):\n",
    "    print(f\"====== { epoch+1} epoch of { num_epoch } ======\")\n",
    "    model.train()\n",
    "    lr_scheduler(optimizer, epoch)\n",
    "    train_loss = 0\n",
    "    valid_loss = 0\n",
    "    correct = 0\n",
    "    total_cnt = 0\n",
    "    # Train Phase\n",
    "    for step, batch in enumerate(train_loader):\n",
    "        #  input and target\n",
    "        batch[0], batch[1] = batch[0].to(device), batch[1].to(device)\n",
    "        optimizer.zero_grad()\n",
    "        \n",
    "        logits = model(batch[0])\n",
    "        loss = loss_fn(logits, batch[1])\n",
    "        loss.backward()\n",
    "        \n",
    "        optimizer.step()\n",
    "        train_loss += loss.item()\n",
    "        _, predict = logits.max(1)\n",
    "        \n",
    "        total_cnt += batch[1].size(0)\n",
    "        correct +=  predict.eq(batch[1]).sum().item()\n",
    "        \n",
    "        if step % 100 == 0 and step != 0:\n",
    "            print(f\"\\n====== { step } Step of { len(train_loader) } ======\")\n",
    "            print(f\"Train Acc : { correct / total_cnt }\")\n",
    "            print(f\"Train Loss : { loss.item() / batch[1].size(0) }\")\n",
    "            \n",
    "    correct = 0\n",
    "    total_cnt = 0\n",
    "    \n",
    "# Test Phase\n",
    "    with torch.no_grad():\n",
    "        model.eval()\n",
    "        for step, batch in enumerate(test_loader):\n",
    "            # input and target\n",
    "            batch[0], batch[1] = batch[0].to(device), batch[1].to(device)\n",
    "            total_cnt += batch[1].size(0)\n",
    "            logits = model(batch[0])\n",
    "            valid_loss += loss_fn(logits, batch[1])\n",
    "            _, predict = logits.max(1)\n",
    "            correct += predict.eq(batch[1]).sum().item()\n",
    "        valid_acc = correct / total_cnt\n",
    "        print(f\"\\nValid Acc : { valid_acc }\")    \n",
    "        print(f\"Valid Loss : { valid_loss / total_cnt }\")\n",
    "\n",
    "        if(valid_acc > best_acc):\n",
    "            best_acc = valid_acc\n",
    "            torch.save(model, model_name)\n",
    "            print(\"Model Saved!\")"
   ]
  }
 ],
 "metadata": {
  "kernelspec": {
   "display_name": "Python 3",
   "language": "python",
   "name": "python3"
  },
  "language_info": {
   "codemirror_mode": {
    "name": "ipython",
    "version": 3
   },
   "file_extension": ".py",
   "mimetype": "text/x-python",
   "name": "python",
   "nbconvert_exporter": "python",
   "pygments_lexer": "ipython3",
   "version": "3.8.10"
  }
 },
 "nbformat": 4,
 "nbformat_minor": 5
}
